{
  "nbformat": 4,
  "nbformat_minor": 0,
  "metadata": {
    "colab": {
      "provenance": [],
      "collapsed_sections": []
    },
    "kernelspec": {
      "name": "python3",
      "display_name": "Python 3"
    },
    "language_info": {
      "name": "python"
    }
  },
  "cells": [
    {
      "cell_type": "code",
      "source": [
        "import math\n",
        "import random\n",
        "import fractions\n",
        "\n",
        "def phi(n):\n",
        "    amount = 0\n",
        "    for k in range(1, n + 1):\n",
        "        if math.gcd(n, k) == 1:\n",
        "            amount += 1\n",
        "    return amount\n",
        "\n",
        "def egcd(a, b):\n",
        "    x, y, u, v = 0, 1, 1, 0\n",
        "    while a != 0:\n",
        "        q, r = b//a, b%a\n",
        "        m, n = x-u*q, y-v*q\n",
        "        b, a, x, y, u, v = a, r, u, v, m, n\n",
        "    gcd = b\n",
        "    return gcd, x, y\n",
        "\n",
        "def modinv(a, m):\n",
        "    gcd, x, y = egcd(a, m)\n",
        "    if gcd != 1:\n",
        "        return None  # modular inverse does not exist\n",
        "    else:\n",
        "        return x % m\n",
        "\n",
        "lowercase = {'a':0, 'b':1, 'c':2, 'd':3, 'e':4, 'f':5, 'g':6, 'h':7, 'i':8,\n",
        "         'j':9, 'k':10, 'l':11, 'm':12, 'n':13, 'o':14, 'p':15, 'q':16,\n",
        "         'r':17, 's':18,  't':19, 'u':20, 'v':21, 'w':22, 'x':23, 'y':24,\n",
        "         'z':25}\n",
        "\n",
        "uppercase ={'A':0, 'B':1, 'C':2, 'D':3, 'E':4, 'F':5, 'G':6, 'H':7, 'I':8,\n",
        "         'J':9, 'K':10, 'L':11, 'M':12, 'N':13, 'O':14, 'P':15, 'Q':16,\n",
        "         'R':17, 'S':18,  'T':19, 'U':20, 'V':21, 'W':22, 'X':23, 'Y':24,\n",
        "         'Z':25}\n",
        "\n",
        "inv_lowercase = {0:'a', 1:'b', 2:'c', 3:'d', 4:'e', 5:'f', 6:'g', 7:'h', 8:'i',\n",
        "         9:'j', 10:'k', 11:'l', 12:'m', 13:'n', 14:'o', 15:'p', 16:'q',\n",
        "         17:'r', 18:'s', 19:'t', 20:'u', 21:'v', 22:'w', 23:'x', 24:'y',\n",
        "         25:'z'}\n",
        "\n",
        "inv_uppercase = {0:'A', 1:'B', 2:'C', 3:'D', 4:'E', 5:'F', 6:'G', 7:'H',\n",
        "                 8:'I', 9:'J', 10:'K', 11:'L', 12:'M', 13:'N', 14:'O', 15:'P',\n",
        "                 16:'Q', 17:'R', 18:'S', 19:'T', 20:'U', 21:'V', 22:'W', 23:'X',\n",
        "                 24:'Y', 25:'Z'}\n",
        "\n",
        "letter_count = {'A':0, 'B':0, 'C':0, 'D':0, 'E':0, 'F':0, 'G':0, 'H':0, 'I':0,\n",
        "         'J':0, 'K':0, 'L':0, 'M':0, 'N':0, 'O':0, 'P':0, 'Q':0,\n",
        "         'R':0, 'S':0,  'T':0, 'U':0, 'V':0, 'W':0, 'X':0, 'Y':0, 'Z':0}\n",
        "\n",
        "def Affine_Enc(ptext, alpha, beta):\n",
        "    plen = len(ptext)\n",
        "    ctext = ''\n",
        "    for i in range (0,plen):\n",
        "        letter = ptext[i]\n",
        "        if letter in lowercase:\n",
        "            poz = lowercase[letter]\n",
        "            poz = (alpha*poz+beta)%26\n",
        "            # print poz\n",
        "            ctext += inv_lowercase[poz]\n",
        "        elif letter in uppercase:\n",
        "            poz = uppercase[letter]\n",
        "            poz = (alpha*poz+beta)%26\n",
        "            ctext += inv_uppercase[poz]\n",
        "        else:\n",
        "            ctext += ptext[i]\n",
        "    return ctext\n",
        "\n",
        "def Affine_Dec(ptext, gamma, theta):\n",
        "    plen = len(ptext)\n",
        "    ctext = ''\n",
        "    for i in range (0,plen):\n",
        "        letter = ptext[i]\n",
        "        if letter in lowercase:\n",
        "            poz = lowercase[letter]\n",
        "            poz = (gamma*poz+theta)%26\n",
        "            #print poz\n",
        "            ctext += inv_lowercase[poz]\n",
        "        elif letter in uppercase:\n",
        "            poz = uppercase[letter]\n",
        "            poz = (gamma*poz+theta)%26\n",
        "            ctext += inv_uppercase[poz]\n",
        "        else:\n",
        "            ctext += ptext[i]\n",
        "    return ctext"
      ],
      "metadata": {
        "id": "w06xsDhUDknS"
      },
      "execution_count": 5,
      "outputs": []
    },
    {
      "cell_type": "code",
      "source": [
        "ctext =  \"ZJOWMJ ZJGC BS UEVRSCC, KSZ ZJSFS GC USZJOV GR GZ.\"\n",
        "\n",
        "for char in ctext:\n",
        "  if char.isalpha() is True:\n",
        "    letter_count[char] += 1\n",
        "\n",
        "print(letter_count ,\"\\n\")\n",
        "\n",
        "# Z and S is the most common letter in ciphertext so either one of them should correspond to the letter \"t\" in plaintext\n",
        "# [25 = (19 * alpha + beta) (mod 26)] or [18 = (19 * alpha + beta) (mod 26)]"
      ],
      "metadata": {
        "colab": {
          "base_uri": "https://localhost:8080/"
        },
        "id": "ev9hbMxIwPln",
        "outputId": "19503bd0-3f0d-4cec-abc2-cee621a5ac90"
      },
      "execution_count": 7,
      "outputs": [
        {
          "output_type": "stream",
          "name": "stdout",
          "text": [
            "{'A': 0, 'B': 2, 'C': 8, 'D': 0, 'E': 2, 'F': 2, 'G': 8, 'H': 0, 'I': 0, 'J': 10, 'K': 2, 'L': 0, 'M': 2, 'N': 0, 'O': 4, 'P': 0, 'Q': 0, 'R': 4, 'S': 12, 'T': 0, 'U': 4, 'V': 4, 'W': 2, 'X': 0, 'Y': 0, 'Z': 12} \n",
            "\n"
          ]
        }
      ]
    },
    {
      "cell_type": "markdown",
      "source": [
        "Z and S is the most common letter in ciphertext so either one of them should correspond to the letter \"t\" in plaintext\n",
        "\n",
        "\\[25 = (19 * alpha + beta) (mod 26)\\] or \\[18 = (19 * alpha + beta) (mod 26)\\] for encryption"
      ],
      "metadata": {
        "id": "EvkLMlbdwYgh"
      }
    },
    {
      "cell_type": "code",
      "execution_count": 9,
      "metadata": {
        "colab": {
          "base_uri": "https://localhost:8080/"
        },
        "id": "ofdzWBNRDXBW",
        "outputId": "ca19edd8-dc46-4e40-b279-8bbe44e19721"
      },
      "outputs": [
        {
          "output_type": "stream",
          "name": "stdout",
          "text": [
            "alpha, beta, gamma, theta, decrypted text:  1 6 1 20 TDIQGD TDAW VM OYPLMWW, EMT TDMZM AW OMTDIP AL AT.\n",
            "alpha, beta, gamma, theta, decrypted text:  3 20 9 2 TFYSGF TFEU LI AMJZIUU, OIT TFIVI EU AITFYJ EZ ET.\n",
            "alpha, beta, gamma, theta, decrypted text:  5 8 21 14 TVWIGV TVKE JC SUNHCEE, QCT TVCPC KE SCTVWN KH KT.\n",
            "alpha, beta, gamma, theta, decrypted text:  7 22 15 8 TNKAGN TNUM XS WQLDSMM, CST TNSFS UM WSTNKL UD UT.\n",
            "alpha, beta, gamma, theta, decrypted text:  9 10 3 22 TXMKGX TXOC ZY EIHVYCC, AYT TXYLY OC EYTXMH OV OT.\n",
            "alpha, beta, gamma, theta, decrypted text:  11 24 19 12 TBSOGB TBWY FQ CKVXQYY, UQT TBQDQ WY CQTBSV WX WT.\n",
            "alpha, beta, gamma, theta, decrypted text:  15 0 7 26 TLUYGL TLQO HW KCRPWOO, SWT TLWJW QO KWTLUR QP QT.\n",
            "alpha, beta, gamma, theta, decrypted text:  17 14 23 16 TPACGP TPYK NO IEFROKK, MOT TPOBO YK IOTPAF YR YT.\n",
            "alpha, beta, gamma, theta, decrypted text:  19 2 11 4 TZCMGZ TZSA PU QWBJUAA, KUT TZUHU SA QUTZCB SJ ST.\n",
            "alpha, beta, gamma, theta, decrypted text:  21 16 5 24 TRQEGR TRCI DK USZFKII, WKT TRKXK CI UKTRQZ CF CT.\n",
            "alpha, beta, gamma, theta, decrypted text:  23 4 17 10 THOUGH THIS BE MADNESS, YET THERE IS METHOD IN IT.\n",
            "alpha, beta, gamma, theta, decrypted text:  25 18 25 18 TJEWGJ TJMQ RA YOXBAQQ, IAT TJANA MQ YATJEX MB MT.\n"
          ]
        }
      ],
      "source": [
        "for alpha in range(1,26):\n",
        "    d, x, y = egcd(alpha, 26)\n",
        "    if d == 1:\n",
        "        beta = (25-19*alpha)%26\n",
        "        gamma = modinv(alpha, 26)\n",
        "        theta = 26-(gamma*beta)%26\n",
        "        print(\"alpha, beta, gamma, theta, decrypted text: \", alpha, beta, gamma, theta, Affine_Dec(ctext, gamma, theta))"
      ]
    },
    {
      "cell_type": "markdown",
      "source": [
        "Plaintext: THOUGH THIS BE MADNESS, YET THERE IS METHOD IN IT.\n",
        "\n",
        "Keys (Encrypt & Decrypt): \\[(23 * x + 4) mod 26], \\[(17 * y + 10) mod 26]"
      ],
      "metadata": {
        "id": "1s5RScazxaxM"
      }
    }
  ]
}