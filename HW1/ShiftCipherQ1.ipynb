{
  "nbformat": 4,
  "nbformat_minor": 0,
  "metadata": {
    "colab": {
      "provenance": []
    },
    "kernelspec": {
      "name": "python3",
      "display_name": "Python 3"
    },
    "language_info": {
      "name": "python"
    }
  },
  "cells": [
    {
      "cell_type": "code",
      "execution_count": 24,
      "metadata": {
        "id": "iH8lEMUo6E1d"
      },
      "outputs": [],
      "source": [
        "def shiftCipher(text):\n",
        "    for shift in range(1,26):\n",
        "        plaintext = \"\"\n",
        "        for letter in text:\n",
        "          plaintext+=chr((ord(letter) - 65  + shift) % 26 + 65)\n",
        "        print(\"shift: {}, result: {}\".format(shift, plaintext))\n",
        "# Will iterate over all alphabet letters to find a meaningful word"
      ]
    },
    {
      "cell_type": "code",
      "source": [
        "cipherText = \"NGZZK\"\n",
        "shiftCipher(cipherText)"
      ],
      "metadata": {
        "colab": {
          "base_uri": "https://localhost:8080/"
        },
        "id": "tRxzYjHV6YhI",
        "outputId": "5a5dc3bf-bb3b-4a10-9180-25098cb19f4a"
      },
      "execution_count": 25,
      "outputs": [
        {
          "output_type": "stream",
          "name": "stdout",
          "text": [
            "shift: 1, result: OHAAL\n",
            "shift: 2, result: PIBBM\n",
            "shift: 3, result: QJCCN\n",
            "shift: 4, result: RKDDO\n",
            "shift: 5, result: SLEEP\n",
            "shift: 6, result: TMFFQ\n",
            "shift: 7, result: UNGGR\n",
            "shift: 8, result: VOHHS\n",
            "shift: 9, result: WPIIT\n",
            "shift: 10, result: XQJJU\n",
            "shift: 11, result: YRKKV\n",
            "shift: 12, result: ZSLLW\n",
            "shift: 13, result: ATMMX\n",
            "shift: 14, result: BUNNY\n",
            "shift: 15, result: CVOOZ\n",
            "shift: 16, result: DWPPA\n",
            "shift: 17, result: EXQQB\n",
            "shift: 18, result: FYRRC\n",
            "shift: 19, result: GZSSD\n",
            "shift: 20, result: HATTE\n",
            "shift: 21, result: IBUUF\n",
            "shift: 22, result: JCVVG\n",
            "shift: 23, result: KDWWH\n",
            "shift: 24, result: LEXXI\n",
            "shift: 25, result: MFYYJ\n"
          ]
        }
      ]
    },
    {
      "cell_type": "markdown",
      "source": [
        "Meaningful Results: BUNNY, SLEEP\n",
        "\n",
        "keys (Encrypt & Decrypt): \\[(x + 12 mod 26) - (y - 12 mod 26)], \\[(x + 21 mod 26) - (y - 21 mod 26)]"
      ],
      "metadata": {
        "id": "3rMcNoUJ6zlu"
      }
    }
  ]
}