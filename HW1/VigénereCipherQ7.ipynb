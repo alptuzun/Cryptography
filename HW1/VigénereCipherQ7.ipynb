{
  "nbformat": 4,
  "nbformat_minor": 0,
  "metadata": {
    "colab": {
      "provenance": []
    },
    "kernelspec": {
      "name": "python3",
      "display_name": "Python 3"
    },
    "language_info": {
      "name": "python"
    }
  },
  "cells": [
    {
      "cell_type": "code",
      "source": [
        "ctext = \"JR WYDUGQ AR LRG BTFWB’U UECDC YVTF S CYVNE LY JVS QZYWYDCJC, CAD FAC NRGQ KZTRAB MXYVTRAXIYY, YK SH GHC DOXRL DDYQES UWBG GIJLSPT UN SXF FILCSPT DMOX VB TFW RGNVC SXF YULYO QS TFW CGN. TFW GKQE PGYOF SCWWGQ TMG XCERMO PQE HGK BQYLGFQ INIR, SXF GO FAWURLD ZO YNS GF DGERMJ VGFT FAC DEOYV CJBUJVOTF SFGENQ CMDVKQE UADJ GHC VYQEWYQC QE SUWOR GHC TBKP-A-ZJKE SRME DJR LMO WCATCD. RG EEAGSNRD DJYO FIBW DQ FIBW LGGWCWX VUE TSBKBUQ GLLRCRK KPQ MSDDKCLGWN VUE FSJCEDQ LRCG IL JOCYIRQ VQQGCV YPYY GF RKF MGFN. DRTUWOP N GPSXF CIYFY CAD Y UOPGRC-LKDYE NAVGQ HGYR YVTF TYQXS USC UCAAW PQE A FSVH N DMROP GO USVM NBPWKUG, YCL RG RSQSIGQ IR OSVU TPWZKQARAYP. UIQ ZOCIY YJWU UULY VQBSCDI CG HGK CKQEQ. ZO FVD LGD MAOU ORCG TM VY YVTF LRQFE YJWU NNB ZKPQS, YFN YUEL, LY JVS CPMKGEB NSUVOL, GXG NRK KOGZEB DSCOLC LY DEUQZ KINILKD VUE ZGYMF OL LRG GAZDO, JR LSJMJRD YOKA YIIW K HEIEZDGAEB ZYTFE, ZSBGYY KACUVNE LRG CIYFY UGOMD. RG JARURGQ TFW OCFY USVM BF RZO QGHCJ SP SRMFD QS HGE, KPQ FMJ DJR FGJCV GIKW BGNLGROF GHYL RKF WYDU YNS BAPHRRCFD HEOK LRCG OD GDJRR KWX. JR EVHOTVELUOF N MMEOPGAPQ ZCAG MX CJNMC LRCG HC KRQHLB OKNX SM MXEBURZVA. GHC KGGNT ZMBUG TFJYWTH RZO UXIL GP JVS DGBGUEYV SP GILQ LGNDQ, SXF UE NSEURD YFN OBPNWN JVS ZJYPMEB XKER WGLR JVS FSXFXEPURKRF.\"\n",
        "fulltext = \"\"\n",
        "for letter in ctext:\n",
        "  if letter.isalpha() is True:\n",
        "    fulltext += letter\n",
        "coincidence = {}\n",
        "l = len(fulltext)\n",
        "for i in range(1, l):\n",
        "  new_text = i * \" \" + fulltext[:l - i]\n",
        "  for j in range(l):\n",
        "    if fulltext[j].isalpha():\n",
        "      if fulltext[j] == new_text[j]:\n",
        "        if i not in coincidence.keys():\n",
        "          coincidence[i] = 1\n",
        "        else:\n",
        "          coincidence[i] += 1\n",
        "\n",
        "sorted_dict = {k: v for k, v in sorted(coincidence.items(), reverse = True, key=lambda item: item[1])}\n",
        "biggest_values = dict(list(sorted_dict.items())[0: 10])\n",
        "print(biggest_values)\n",
        "# It can be seen that most of the coincidences are happening in the multiples of 6 so the key space is 6"
      ],
      "metadata": {
        "colab": {
          "base_uri": "https://localhost:8080/"
        },
        "id": "ae-5VGqHkarU",
        "outputId": "f0347dfd-25d4-422f-a157-0743abbb7ff6"
      },
      "execution_count": 2,
      "outputs": [
        {
          "output_type": "stream",
          "name": "stdout",
          "text": [
            "{42: 82, 54: 75, 60: 72, 96: 72, 84: 71, 144: 67, 24: 66, 6: 65, 126: 65, 114: 63}\n"
          ]
        }
      ]
    },
    {
      "cell_type": "code",
      "source": [
        "sub_ctext = [\"\",\"\",\"\",\"\",\"\",\"\"]\n",
        "\n",
        "letter_count = {'A':0, 'B':0, 'C':0, 'D':0, 'E':0, 'F':0, 'G':0, 'H':0, 'I':0,\n",
        "         'J':0, 'K':0, 'L':0, 'M':0, 'N':0, 'O':0, 'P':0, 'Q':0,\n",
        "         'R':0, 'S':0,  'T':0, 'U':0, 'V':0, 'W':0, 'X':0, 'Y':0, 'Z':0}\n",
        "\n",
        "for x in range(0, len(fulltext) - 1):\n",
        "  sub_ctext[(x % 6)] += fulltext[x]\n",
        "\n",
        "print(sub_ctext)\n",
        "for x in sub_ctext:\n",
        "  copy = letter_count.copy()\n",
        "  for letter in x:\n",
        "    copy[letter] += 1\n",
        "  sorted_dict = {k: v for k, v in sorted(copy.items(), reverse = True, key=lambda item: item[1])}\n",
        "  print(sorted_dict)\n",
        "# in first try the key \"ccaysk\" is tried with macthing the most frequent letter with 'e' but only one letter is misinterpreted with frequency test that is the second key.\n",
        "# so asigning g to 't' with key cnaysk solves the ciphertext "
      ],
      "metadata": {
        "colab": {
          "base_uri": "https://localhost:8080/"
        },
        "id": "0iuf7r2tBovk",
        "outputId": "06c2bb44-f867-4912-87cd-e1ba05976021"
      },
      "execution_count": 3,
      "outputs": [
        {
          "output_type": "stream",
          "name": "stdout",
          "text": [
            "['JGGUYYJWCNTYIHXQGPFPVGFQGKOGCQQIFUYGGDJTNKJQQRKEJCGNOQGVKLPKVCCCQPKDPFCPDGYQUQHPMUGGVKPCUQCKFMCYQUPYJKUGGCDIVMGJJAHGTGUGUGGCMQPQPJVGFKYHHCJJTFPCJCQNEAGUWUJGPGFUOJPEJFK', 'RQBUVVVYARRVYGREGTFTBNYSNQFQEEYNGRNEFEBFQQGEEGPSRAERFFGUBRQCUEGYQYFRNCAGYQVXCENGNGRQUQUIUBGQVAGVFNQUVGVNZOENUFGRRYEAFYVCGJQFBGSSQRGNGFNREGRRVNGANGHXBGNGTXVUGNURBVMRVXR', 'WATETNSDDGATYHLSIUIDTVUTTESTRHLIOLSRTOUSCEHWSHARLTEDIIWEUCMLEDIIGYMTGIDREHTSAADOBYSITAIYUSHEDOTTENSESEORELUIEOALDIIEEYNIOATYFHRHFFILHWSROOREEMAGMHLSUHTTHISEIDEDPSEWSE', 'YRFCFEQCFQBRYCDUJNLMFCLFFPCMMGGRFDGMFYJFMUCYUCZMMCADBBCTQRSGFQLRCGGUPYYCNGFUAFMUPCQRPRQYLCGQLUMFYBYLCBLKBCQLZLZSYIEBZKEYMRFURCMGMGKGYYBCKDKVLMPMCCBMRCZFRLDYLQNYNZBGFP', 'DLWDSLZJAKMAKDDWLSCOWSYWWGWGOKFSAZFJAVVGDAVQWTJEODGJWWWSGKDWSLJQVFFWSFULAYTSWSRSWLSOWAZJYDKZGOVLJZFLPNGKDLZKGLDJOWZZSALFDUWSZJFEJJWRLDAFLGWHUEQXLKOMZKMJZGGVQSSFWJXLSU', 'URBCCYYCCZXXSOYBSXSXRXOCGYWXPBQXWODVCCOEVDYCOBKDWRSYDLXBLKDNJROVYRNOXYOKVRYCPVOVKRISZYOWVICODRYRWKNYMSXOSYKDYROMKKDYBCRYRROVOSDKDCBORUPDRDXOOOZCRRKXVGBYOPBSLXENNYKRXR']\n",
            "{'G': 25, 'C': 15, 'J': 15, 'Q': 15, 'P': 14, 'U': 12, 'K': 11, 'F': 9, 'Y': 8, 'V': 6, 'H': 5, 'D': 4, 'M': 4, 'N': 4, 'T': 4, 'E': 3, 'I': 3, 'O': 3, 'A': 2, 'W': 2, 'L': 1, 'R': 1, 'X': 1, 'B': 0, 'S': 0, 'Z': 0}\n",
            "{'G': 24, 'R': 19, 'N': 16, 'Q': 14, 'V': 14, 'E': 13, 'F': 12, 'U': 10, 'Y': 9, 'B': 8, 'A': 6, 'C': 4, 'S': 4, 'X': 4, 'T': 3, 'H': 1, 'I': 1, 'J': 1, 'M': 1, 'O': 1, 'P': 1, 'Z': 1, 'D': 0, 'K': 0, 'L': 0, 'W': 0}\n",
            "{'E': 21, 'I': 17, 'T': 17, 'S': 16, 'H': 12, 'D': 11, 'A': 9, 'L': 9, 'O': 9, 'R': 8, 'U': 7, 'Y': 6, 'W': 5, 'G': 4, 'M': 4, 'F': 3, 'N': 3, 'C': 2, 'B': 1, 'P': 1, 'V': 1, 'J': 0, 'K': 0, 'Q': 0, 'X': 0, 'Z': 0}\n",
            "{'C': 20, 'F': 16, 'M': 15, 'Y': 15, 'G': 12, 'L': 12, 'R': 11, 'B': 10, 'Q': 9, 'U': 8, 'P': 6, 'Z': 6, 'D': 5, 'K': 5, 'N': 4, 'E': 3, 'A': 2, 'J': 2, 'S': 2, 'I': 1, 'T': 1, 'V': 1, 'H': 0, 'O': 0, 'W': 0, 'X': 0}\n",
            "{'W': 20, 'S': 16, 'L': 15, 'J': 13, 'D': 12, 'G': 11, 'Z': 11, 'F': 10, 'A': 9, 'K': 9, 'O': 7, 'V': 6, 'Q': 4, 'U': 4, 'E': 3, 'M': 3, 'Y': 3, 'R': 2, 'T': 2, 'X': 2, 'C': 1, 'H': 1, 'N': 1, 'P': 1, 'B': 0, 'I': 0}\n",
            "{'O': 20, 'R': 19, 'Y': 18, 'X': 14, 'C': 13, 'D': 12, 'K': 11, 'B': 9, 'S': 9, 'V': 9, 'N': 5, 'W': 5, 'P': 4, 'L': 3, 'Z': 3, 'E': 2, 'G': 2, 'I': 2, 'M': 2, 'U': 2, 'J': 1, 'Q': 1, 'A': 0, 'F': 0, 'H': 0, 'T': 0}\n"
          ]
        }
      ]
    },
    {
      "cell_type": "code",
      "source": [
        "def decryption(ciphertext, key):\n",
        "  plaintext = \"\"\n",
        "  k = 0 \n",
        "  for i in range(len(ciphertext)):\n",
        "    if ciphertext[i].isalpha() is True:\n",
        "      x = (ord(ciphertext[i]) - ord(key[k % 6])) % 26\n",
        "      x += ord('A')\n",
        "      k+=1\n",
        "      plaintext += chr(x)\n",
        "    else:\n",
        "      plaintext += ciphertext[i] \n",
        "  return plaintext  \n",
        "\n",
        "decryption(ctext, \"CNAYSK\")"
      ],
      "metadata": {
        "colab": {
          "base_uri": "https://localhost:8080/",
          "height": 122
        },
        "id": "zfwBNoXqcffr",
        "outputId": "e27d8052-547d-4dc2-bcd5-e219e3954487"
      },
      "execution_count": 4,
      "outputs": [
        {
          "output_type": "execute_result",
          "data": {
            "text/plain": [
              "'HE WALKED AT THE OTHER’S HEELS WITH A SWING TO HIS SHOULDERS, AND HIS LEGS SPREAD UNWITTINGLY, AS IF THE LEVEL FLOORS WERE TILTING UP AND SINKING DOWN TO THE HEAVE AND LUNGE OF THE SEA. THE WIDE ROOMS SEEMED TOO NARROW FOR HIS ROLLING GAIT, AND TO HIMSELF HE WAS IN TERROR LEST HIS BROAD SHOULDERS SHOULD COLLIDE WITH THE DOORWAYS OR SWEEP THE BRIC-A-BRAC FROM THE LOW MANTEL. HE RECOILED FROM SIDE TO SIDE BETWEEN THE VARIOUS OBJECTS AND MULTIPLIED THE HAZARDS THAT IN REALITY LODGED ONLY IN HIS MIND. BETWEEN A GRAND PIANO AND A CENTRE-TABLE PILED HIGH WITH BOOKS WAS SPACE FOR A HALF A DOZEN TO WALK ABREAST, YET HE ESSAYED IT WITH TREPIDATION. HIS HEAVY ARMS HUNG LOOSELY AT HIS SIDES. HE DID NOT KNOW WHAT TO DO WITH THOSE ARMS AND HANDS, AND WHEN, TO HIS EXCITED VISION, ONE ARM SEEMED LIABLE TO BRUSH AGAINST THE BOOKS ON THE TABLE, HE LURCHED AWAY LIKE A FRIGHTENED HORSE, BARELY MISSING THE PIANO STOOL. HE WATCHED THE EASY WALK OF THE OTHER IN FRONT OF HIM, AND FOR THE FIRST TIME REALIZED THAT HIS WALK WAS DIFFERENT FROM THAT OF OTHER MEN. HE EXPERIENCED A MOMENTARY PANG OF SHAME THAT HE SHOULD WALK SO UNCOUTHLY. THE SWEAT BURST THROUGH THE SKIN OF HIS FOREHEAD IN TINY BEADS, AND HE PAUSED AND MOPPED HIS BRONZED FACE WITH HIS HANDKERCHIEF.'"
            ],
            "application/vnd.google.colaboratory.intrinsic+json": {
              "type": "string"
            }
          },
          "metadata": {},
          "execution_count": 4
        }
      ]
    }
  ]
}